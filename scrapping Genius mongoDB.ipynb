{
 "cells": [
  {
   "cell_type": "code",
   "execution_count": 101,
   "metadata": {},
   "outputs": [],
   "source": [
    "from bs4 import BeautifulSoup\n",
    "import urllib, os, urllib.request\n",
    "import re\n",
    "import requests\n",
    "import os\n",
    "import sys\n",
    "import csv\n",
    "from pymongo import MongoClient\n",
    "from itertools import islice\n",
    "\n",
    "    #Step 1: Connect to MongoDB - Note: Change connection string as needed\n",
    "global client \n",
    "client = MongoClient(port=27017)\n",
    "global db\n",
    "db=client.GeniusScrappingProject"
   ]
  },
  {
   "cell_type": "code",
   "execution_count": 112,
   "metadata": {},
   "outputs": [],
   "source": [
    "def getWorkingUrls():\n",
    "    urls = []\n",
    "    i=0\n",
    "    with open(os.path.expanduser(r\"working-urls.csv\"),\"r\") as urlsFile:\n",
    "        for url in islice(urlsFile,30) :\n",
    "            urls.append(url)\n",
    "    urlsFile.close()\n",
    "    urls.sort()\n",
    "    urls = list(dict.fromkeys(urls))\n",
    "    return urls"
   ]
  },
  {
   "cell_type": "code",
   "execution_count": 113,
   "metadata": {},
   "outputs": [],
   "source": [
    "def findExistingUrls() :\n",
    "    songs = db.songs.find()\n",
    "    existingUrls =[]\n",
    "    for song in songs :\n",
    "        existingUrls.append(song['url'])\n",
    "    return existingUrls"
   ]
  },
  {
   "cell_type": "code",
   "execution_count": 114,
   "metadata": {},
   "outputs": [],
   "source": [
    "def scrappingUrls() :\n",
    "    print('-----------SCRAPPING URLS-----------')\n",
    "    hdr = {'User-Agent': 'Mozilla/5.0 (Windows NT 10.0; Win64; x64) AppleWebKit/537.36 (KHTML, like Gecko) Chrome/70.0.3538.77 Safari/537.36',\n",
    "             'Accept': 'text/html,application/xhtml+xml,application/xml;q=0.9,*/*;q=0.8',\n",
    "             'Referer': 'https://cssspritegenerator.com',\n",
    "             'Accept-Charset': 'ISO-8859-1,utf-8;q=0.7,*;q=0.3',\n",
    "             'Accept-Encoding': 'none',\n",
    "             'Accept-Language': 'en-US,en;q=0.8',\n",
    "             'Connection': 'keep-alive'}\n",
    "    songs = []\n",
    "    urls = getWorkingUrls()\n",
    "    existingUrls = findExistingUrls()\n",
    "    for url in urls :\n",
    "        if  not url in existingUrls:\n",
    "            try:\n",
    "                req=urllib.request.Request(url,headers=hdr)\n",
    "                thePage = urllib.request.urlopen(req)\n",
    "                soup = BeautifulSoup(thePage, \"lxml\")\n",
    "                title = soup.find('div',class_='header_with_cover_art-primary_info').h1.text\n",
    "                title = re.sub(r'/',\"-\",title)\n",
    "                title = re.sub(r'[^\\w\\s]|[\\-\\(\\)\\']','',title)\n",
    "                if (soup.find('span',class_='metadata_unit-label').text == 'Featuring'):\n",
    "                    featuring = soup.find('span',class_='metadata_unit-info').text,\n",
    "                else :\n",
    "                    featuring = '',\n",
    "                song = {\n",
    "                    'url' : url,\n",
    "                    'title': title,\n",
    "                    'artist' : soup.find('div',class_='header_with_cover_art-primary_info').h2.text.lstrip().rstrip(),\n",
    "                    'featuring' : featuring,\n",
    "                    'lyrics' : soup.find('div', class_=\"lyrics\").p.text \n",
    "                }\n",
    "                songs.append(song)\n",
    "                print('{0} done'.format(song['title']))\n",
    "            except urllib.error.HTTPError as err:\n",
    "                raise\n",
    "    return songs"
   ]
  },
  {
   "cell_type": "code",
   "execution_count": 115,
   "metadata": {},
   "outputs": [],
   "source": [
    "def updateData():\n",
    "    '-----------UPDATING DATA-----------'\n",
    "    songs = scrappingUrls()\n",
    "    #existingUrls = findExistingUrls()\n",
    "    for song in songs:\n",
    "        entry = {\n",
    "            'Title' : song['title'],\n",
    "            'Artist' : song['artist'],\n",
    "            'Features' : song['featuring'],\n",
    "            'url' : song['url'],\n",
    "            'lyrics' : song['lyrics']\n",
    "        }\n",
    "        #Step 3: Insert business object directly into MongoDB via isnert_one\n",
    "        result=db.songs.insert_one(entry)\n",
    "        #Step 4: Print to the console the ObjectID of the new document\n",
    "        print('Created as {0}'.format(song['title']))\n",
    "    #Step 5: Tell us that you are done\n",
    "    print('finished creating songs')"
   ]
  },
  {
   "cell_type": "code",
   "execution_count": 116,
   "metadata": {},
   "outputs": [
    {
     "name": "stdout",
     "output_type": "stream",
     "text": [
      "-----------SCRAPPING URLS-----------\n",
      "Cleanin Out My Closet done\n",
      "FACK done\n",
      "Guilty Conscience done\n",
      "Intro Curtain Call done\n",
      "Just Lose It done\n",
      "Kill You done\n",
      "Like Toy Soldiers done\n",
      "Lose Yourself done\n",
      "Mockingbird done\n",
      "My Name Is done\n",
      "Role Model done\n",
      "Shake That done\n",
      "Sing for the Moment done\n",
      "Stan done\n",
      "The Real Slim Shady done\n",
      "The Way I Am done\n",
      "When Im Gone done\n",
      "Without Me done\n",
      "Created as Cleanin Out My Closet\n",
      "Created as FACK\n",
      "Created as Guilty Conscience\n",
      "Created as Intro Curtain Call\n",
      "Created as Just Lose It\n",
      "Created as Kill You\n",
      "Created as Like Toy Soldiers\n",
      "Created as Lose Yourself\n",
      "Created as Mockingbird\n",
      "Created as My Name Is\n",
      "Created as Role Model\n",
      "Created as Shake That\n",
      "Created as Sing for the Moment\n",
      "Created as Stan\n",
      "Created as The Real Slim Shady\n",
      "Created as The Way I Am\n",
      "Created as When Im Gone\n",
      "Created as Without Me\n",
      "finished creating songs\n"
     ]
    }
   ],
   "source": [
    "updateData()"
   ]
  }
 ],
 "metadata": {
  "kernelspec": {
   "display_name": "Python 3",
   "language": "python",
   "name": "python3"
  },
  "language_info": {
   "codemirror_mode": {
    "name": "ipython",
    "version": 3
   },
   "file_extension": ".py",
   "mimetype": "text/x-python",
   "name": "python",
   "nbconvert_exporter": "python",
   "pygments_lexer": "ipython3",
   "version": "3.7.3"
  }
 },
 "nbformat": 4,
 "nbformat_minor": 2
}
